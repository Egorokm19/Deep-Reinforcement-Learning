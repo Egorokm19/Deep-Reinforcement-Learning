{
  "nbformat": 4,
  "nbformat_minor": 5,
  "metadata": {
    "colab": {
      "name": "Homework2.ipynb",
      "provenance": [],
      "collapsed_sections": []
    },
    "kernelspec": {
      "display_name": "Python 3",
      "language": "python",
      "name": "python3"
    },
    "language_info": {
      "codemirror_mode": {
        "name": "ipython",
        "version": 3
      },
      "file_extension": ".py",
      "mimetype": "text/x-python",
      "name": "python",
      "nbconvert_exporter": "python",
      "pygments_lexer": "ipython3",
      "version": "3.7.1"
    }
  },
  "cells": [
    {
      "cell_type": "markdown",
      "metadata": {
        "id": "Ia-mpMVnPrOp"
      },
      "source": [
        "# RL and Advanced DL: Домашнее задание 2"
      ],
      "id": "Ia-mpMVnPrOp"
    },
    {
      "cell_type": "markdown",
      "metadata": {
        "id": "39Sd8Jp1PrOr"
      },
      "source": [
        "- Второе домашнее задание опять посвящено игре; его базовая часть, надеюсь, не слишком большая, но я добавил опциональную часть, которая, думаю, должна быть достаточно интересной для любого слушателя. Как обычно, **в качестве решения ожидается ссылка на jupyter-ноутбук на вашем github (или публичный, или с доступом для snikolenko); ссылку обязательно нужно прислать в виде сданного домашнего задания на портале Академии**. Любые комментарии, новые идеи и рассуждения на тему, как всегда, категорически приветствуются."
      ],
      "id": "39Sd8Jp1PrOr"
    },
    {
      "cell_type": "code",
      "metadata": {
        "id": "um9x7CTcPrOs"
      },
      "source": [
        "# импортируем необходимые библиотеки\n",
        "import gym\n",
        "import random\n",
        "import itertools\n",
        "import torch\n",
        "import torch.nn as nn\n",
        "import torch.optim as optim\n",
        "import torch.nn.functional as F\n",
        "import seaborn as sns\n",
        "import pandas as pd\n",
        "import numpy as np\n",
        "from gym import spaces\n",
        "from gym.utils import seeding\n",
        "from copy import deepcopy\n",
        "from torch.autograd import Variable\n",
        "from collections import Counter, defaultdict\n",
        "from IPython.display import clear_output\n",
        "\n",
        "import matplotlib.pyplot as plt\n",
        "%matplotlib inline\n",
        "plt.style.use('ggplot')\n",
        "\n",
        "\n",
        "# константы для значений\n",
        "CONST_NULL = 0\n",
        "CONST_ONE = 1\n",
        "CONST_CELL = 3\n",
        "CONST_BATCH = 64\n",
        "CONST_LAYER = 128"
      ],
      "id": "um9x7CTcPrOs",
      "execution_count": 1,
      "outputs": []
    },
    {
      "cell_type": "markdown",
      "metadata": {
        "id": "hXjyuEbjPrOt"
      },
      "source": [
        "## Часть первая: крестики-нолики при помощи Q-обучения"
      ],
      "id": "hXjyuEbjPrOt"
    },
    {
      "cell_type": "markdown",
      "metadata": {
        "id": "L9RqEWqVPrOt"
      },
      "source": [
        "В коде, прилагающемся к последней лекции про обучение с подкреплением, реализован Environment для крестиков-ноликов, в котором можно при инициализации указывать разные размеры доски и условия победы, а также функции для рисования, в том числе с указанием оценки различных действий. С этим окружением все задания и связаны:\n",
        "1. Реализуйте обычное (табличное) Q-обучение. Обучите стратегии крестиков и ноликов для доски 3х3.\n",
        "2. Попробуйте обучить стратегии крестиков и ноликов для доски 4х4 и/или 5х5.\n",
        "\n",
        "**Disclaimer**: начиная с пункта 2, задания для досок размера больше 4х4 могут потребовать большого терпения или более сложных вычислительных реализаций (например, параллелизации). Не хочу в этом задании непременно требовать ни того ни другого, так что если не будет получаться доучить до победных стратегий, не страшно -- но покажите, что со временем что-то всё-таки улучшается."
      ],
      "id": "L9RqEWqVPrOt"
    },
    {
      "cell_type": "markdown",
      "metadata": {
        "id": "SxPcm6r5PrOu"
      },
      "source": [
        "### 1. Реализуйте обычное (табличное) Q-обучение. Обучите стратегии крестиков и ноликов для доски 3х3."
      ],
      "id": "SxPcm6r5PrOu"
    },
    {
      "cell_type": "code",
      "metadata": {
        "id": "Kqi9MzUfPrOv"
      },
      "source": [
        "class TicTacToe(gym.Env):\n",
        "    def __init__(\n",
        "        self,\n",
        "        val_rows=CONST_CELL,\n",
        "        val_cols=CONST_CELL,\n",
        "        val_victory=CONST_CELL\n",
        "    ):\n",
        "        \"\"\"\n",
        "        Инициализация параметров игры и среды крестики-нолики.\n",
        "        \"\"\"\n",
        "        self.val_rows = val_rows\n",
        "        self.val_cols = val_cols\n",
        "        self.val_victory = val_victory\n",
        "        \n",
        "        self.plate = np.zeros(\n",
        "            (self.val_rows, self.val_cols),\n",
        "            dtype=int\n",
        "        )\n",
        "        self.game_over = False\n",
        "        self.plate_memory = None\n",
        "        self.motion_first = CONST_ONE\n",
        "        self.empty_field = None\n",
        "        self.reset()\n",
        "\n",
        "    def fill_cell_val(\n",
        "        self\n",
        "    ):\n",
        "        \"\"\"\n",
        "        Заполнение значений ячеек.\n",
        "        \"\"\"\n",
        "        if self.empty_field is None:\n",
        "            res = np.where(self.plate == CONST_NULL)\n",
        "            list_empty_field = []\n",
        "            for i, j in zip(res[CONST_NULL], res[CONST_ONE]):\n",
        "                list_empty_field.append((i, j))\n",
        "            self.empty_field = np.array(list_empty_field)\n",
        "\n",
        "        return self.empty_field\n",
        "\n",
        "    def fill_memory_cell(\n",
        "        self\n",
        "    ):\n",
        "        \"\"\"\n",
        "        Проверка значений заполнений.\n",
        "        \"\"\"\n",
        "        if self.plate_memory is None:\n",
        "            list_memory = []\n",
        "            for iterr in self.plate.reshape(self.val_rows * self.val_cols):\n",
        "                list_memory.append('%s' % (iterr + CONST_ONE))\n",
        "            self.plate_memory = ''.join(list_memory)\n",
        "\n",
        "        return self.plate_memory\n",
        "\n",
        "    def transitions(\n",
        "        self\n",
        "    ):\n",
        "        \"\"\"\n",
        "        Логика ходов.\n",
        "        \"\"\"\n",
        "        transition_next = np.where(self.plate == self.motion_first)\n",
        "        transition_init = self.motion_first\n",
        "        for i, j in zip(transition_next[CONST_NULL], transition_next[CONST_ONE]):\n",
        "            victory = False\n",
        "            if i <= self.val_rows - self.val_victory:\n",
        "                if np.all(self.plate[i:i + self.val_victory, j] == transition_init):\n",
        "                    victory = True\n",
        "            if not victory:\n",
        "                if j <= self.val_cols - self.val_victory:\n",
        "                    if np.all(self.plate[i, j:j + self.val_victory] == transition_init):\n",
        "                        victory = True\n",
        "            if not victory:\n",
        "                if i <= self.val_rows - self.val_victory and j <= self.val_cols - self.val_victory:\n",
        "                    list_states_plates = []\n",
        "                    for k in range(self.val_victory):\n",
        "                        list_states_plates.append(self.plate[i + k, j + k] == transition_init)\n",
        "                    val_states_plates = np.array(list_states_plates)\n",
        "                    if np.all(val_states_plates):\n",
        "                        victory = True\n",
        "            if not victory:\n",
        "                if i <= self.val_rows - self.val_victory and j >= self.val_victory - CONST_ONE:\n",
        "                    list_states_victory = []\n",
        "                    for k in range(self.val_victory):\n",
        "                        list_states_victory.append(self.plate[i + k, j - k] == transition_init)\n",
        "                    val_states_victory = np.array(list_states_victory)\n",
        "                    if np.all(val_states_victory):\n",
        "                        victory = True\n",
        "            if victory:\n",
        "                self.game_over = True\n",
        "                return self.motion_first\n",
        "\n",
        "        if len(self.fill_cell_val()) == CONST_NULL:\n",
        "            self.game_over = True\n",
        "            return CONST_NULL\n",
        "        \n",
        "        self.game_over = False\n",
        "        \n",
        "        return None\n",
        "\n",
        "    def step(\n",
        "        self,\n",
        "        action\n",
        "    ):\n",
        "        \"\"\"\n",
        "        Получение основных данных среды и их обновление.\n",
        "        \"\"\"\n",
        "        if self.plate[action[CONST_NULL], action[CONST_ONE]] != CONST_NULL:\n",
        "            # получаем наблюдения\n",
        "            obs = (self.fill_memory_cell(), self.fill_cell_val(), self.motion_first)\n",
        "            return obs, -10, True\n",
        "        \n",
        "        self.plate[action[CONST_NULL], action[CONST_ONE]] = self.motion_first\n",
        "        self.empty_field = None\n",
        "        self.plate_memory = None\n",
        "        # вычисляем значение награды\n",
        "        reward = self.transitions()\n",
        "        self.motion_first = -self.motion_first\n",
        "        # получаем наблюдения\n",
        "        obs = (self.fill_memory_cell(), self.fill_cell_val(), self.motion_first)\n",
        "        val_rewards = CONST_NULL if reward is None else reward\n",
        "        val_dones = reward is not None\n",
        "        \n",
        "        return obs, val_rewards, val_dones\n",
        "\n",
        "    def reset(\n",
        "        self\n",
        "    ):\n",
        "        \"\"\"\n",
        "        Сброс значений.\n",
        "        \"\"\"\n",
        "        self.plate = np.zeros((self.val_rows, self.val_cols), dtype=int)\n",
        "        self.plate_memory = None\n",
        "        self.game_over = False\n",
        "        self.empty_field = None\n",
        "        self.motion_first = CONST_ONE\n",
        "        # получаем наблюдения\n",
        "        obs = (self.fill_memory_cell(), self.fill_cell_val(), self.motion_first)\n",
        "        \n",
        "        return obs"
      ],
      "id": "Kqi9MzUfPrOv",
      "execution_count": 2,
      "outputs": []
    },
    {
      "cell_type": "code",
      "metadata": {
        "id": "us8XhEKqPrOy"
      },
      "source": [
        "def plot_board(\n",
        "    env\n",
        "):\n",
        "    \"\"\"\n",
        "    Функция для отображения логики доски для игры.\n",
        "    \"\"\"\n",
        "    clear_output(wait=True)\n",
        "    fig, ax = plt.subplots(CONST_ONE, CONST_ONE, figsize=(8, 8))\n",
        "    x_coords, y_coords = np.meshgrid(np.arange(CONST_NULL, env.val_rows), np.arange(CONST_NULL, env.val_rows))\n",
        "    state, actions = env.fill_memory_cell(), env.fill_cell_val()\n",
        "    ax.set_xticks([])\n",
        "    ax.set_yticks([])\n",
        "    image_planes = ax.imshow(np.zeros((env.val_rows, env.val_cols)) + .01, vmin=-CONST_ONE, vmax=CONST_ONE)\n",
        "    for i in range(env.val_rows):\n",
        "        for j in range(env.val_cols):\n",
        "            if env.plate[i, j] == -CONST_ONE:\n",
        "                ax.text(j, i, \"O\", fontsize=60, horizontalalignment='center', verticalalignment='center', color=\"w\" )\n",
        "            if env.plate[i, j] == CONST_ONE:\n",
        "                ax.text(j, i, \"X\", fontsize=60, horizontalalignment='center', verticalalignment='center', color=\"w\" )\n",
        "    cbar = plt.colorbar(image_planes, ticks=[CONST_NULL, CONST_ONE])\n",
        "    ax.grid(True)\n",
        "    plt.show()\n",
        "\n",
        "\n",
        "def run_game(env):\n",
        "    '''\n",
        "    Играем тестовую партию между стратегиями или со случайными ходами, рисуем ход игры.\n",
        "    '''\n",
        "    done = False\n",
        "    env.reset()\n",
        "    while not done:\n",
        "        s, actions = env.fill_memory_cell(), env.fill_cell_val()\n",
        "        if env.motion_first == CONST_ONE:\n",
        "            plot_board(env)\n",
        "            a = np.random.randint(len(actions))\n",
        "        else:\n",
        "            plot_board(env)\n",
        "            a = np.random.randint(len(actions))\n",
        "        observation, reward, done = env.step(actions[a])\n",
        "        if reward == CONST_ONE:\n",
        "            print(\"Победа крестиков!\")\n",
        "            plot_board(env)\n",
        "        if reward == -CONST_ONE:\n",
        "            print(\"Победа ноликов!\")\n",
        "            plot_board(env)"
      ],
      "id": "us8XhEKqPrOy",
      "execution_count": 3,
      "outputs": []
    },
    {
      "cell_type": "code",
      "metadata": {
        "colab": {
          "base_uri": "https://localhost:8080/",
          "height": 470
        },
        "id": "InW1cmpFPrOy",
        "outputId": "e380fab1-b082-46ff-a812-66758243b6d5"
      },
      "source": [
        "# выводим игру в крестики-нолики 3*3\n",
        "env = TicTacToe()\n",
        "run_game(env)"
      ],
      "id": "InW1cmpFPrOy",
      "execution_count": 4,
      "outputs": [
        {
          "output_type": "display_data",
          "data": {
            "image/png": "[encoded data removed]",
            "text/plain": [
              "<Figure size 576x576 with 2 Axes>"
            ]
          },
          "metadata": {
            "needs_background": "light"
          }
        }
      ]
    },
    {
      "cell_type": "code",
      "metadata": {
        "id": "k_7c6mVGPrOz"
      },
      "source": [
        "def epsilon_greedy(\n",
        "    q_function,\n",
        "    state,\n",
        "    actions,\n",
        "    eps\n",
        "):\n",
        "    \"\"\"\n",
        "    Выбираем действие эпсилон-жадным алгоритмом для состояния.\n",
        "    \"\"\"\n",
        "    if random.random() > eps:\n",
        "        straegy = actions[np.argmax(q_function[state[CONST_NULL]])]\n",
        "    else:\n",
        "        straegy = random.choice(actions)\n",
        "        \n",
        "    return straegy\n",
        "\n",
        "\n",
        "def update_q_function(\n",
        "    alpha,\n",
        "    gamma,\n",
        "    q_function,\n",
        "    state,\n",
        "    action,\n",
        "    rewards,\n",
        "    next_state=None\n",
        "):\n",
        "    \"\"\"\n",
        "    Обновление значения Q функии.\n",
        "    \"\"\"\n",
        "    if next_state is not None:\n",
        "        max_next = np.max(q_function[next_state])\n",
        "    else:\n",
        "        max_next = CONST_NULL\n",
        "        \n",
        "    return q_function[state][action] + alpha * (rewards + gamma * max_next - q_function[state][action])\n",
        "\n",
        "\n",
        "def rolling_window(\n",
        "    array_rewards,\n",
        "    window\n",
        "):\n",
        "    \"\"\"\n",
        "    Подсчет скользящего окна для награды.\n",
        "    \"\"\"\n",
        "    return np.lib.stride_tricks.as_strided(\n",
        "        array_rewards,\n",
        "        shape=array_rewards.shape[:-CONST_ONE] + (array_rewards.shape[-CONST_ONE] - window + CONST_ONE, window),\n",
        "        strides=array_rewards.strides + (array_rewards.strides[-CONST_ONE],))\n",
        "\n",
        "\n",
        "def val_index_array(val_array, value):\n",
        "    for index, iterr in enumerate(val_array):\n",
        "        if iterr == value:\n",
        "            return index\n",
        "\n",
        "    return -CONST_ONE\n",
        "\n",
        "\n",
        "def q_learning(\n",
        "    env,\n",
        "    alpha,\n",
        "    gamma,\n",
        "    epsilon,\n",
        "    episodes,\n",
        "    shapes\n",
        "):\n",
        "    \"\"\"\n",
        "    Функция для Q обучения.\n",
        "    \"\"\"\n",
        "    rewards = []\n",
        "    env.reset()\n",
        "    list_actions = env.fill_cell_val().tolist()\n",
        "    q_table_state = defaultdict(lambda: np.random.uniform(size=shapes*shapes).tolist())\n",
        "    for i in range(CONST_ONE, episodes):\n",
        "        state = env.reset()\n",
        "        reward = CONST_NULL\n",
        "        done = False\n",
        "        new_actions, new_states = [], []\n",
        "\n",
        "        while not done:\n",
        "            _, actions = env.fill_memory_cell(), env.fill_cell_val()\n",
        "            if env.motion_first == -CONST_ONE:\n",
        "                action = random.choice(actions)\n",
        "            else:\n",
        "                while True:\n",
        "                        action = epsilon_greedy(q_table_state, state, list_actions, epsilon)\n",
        "                        if action not in actions:\n",
        "                            q_table_state[state[CONST_NULL]][val_index_array(list_actions, action)] = -1000\n",
        "                        else:\n",
        "                            break\n",
        "                new_actions.append(action)\n",
        "\n",
        "            next_state, reward, done = env.step(action) \n",
        "\n",
        "            if done == False:\n",
        "                reward = CONST_NULL\n",
        "            else:\n",
        "                if env.motion_first == -CONST_ONE:\n",
        "                    reward = CONST_ONE\n",
        "                else:\n",
        "                    reward = -CONST_ONE\n",
        "\n",
        "                prev_state = new_states[-CONST_ONE]\n",
        "                prev_action = val_index_array(list_actions, list(new_actions[-CONST_ONE]))\n",
        "\n",
        "                q_table_state[prev_state][prev_action] = update_q_function(\n",
        "                    alpha, gamma, q_table_state, prev_state, prev_action, reward, next_state[CONST_NULL]\n",
        "                    )\n",
        "                state = next_state\n",
        "            \n",
        "            if env.motion_first == CONST_ONE:\n",
        "                prev_state = state[CONST_NULL]\n",
        "                prev_action = val_index_array(list_actions, list(new_actions[-CONST_ONE]))\n",
        "\n",
        "                new_states.append(prev_state)\n",
        "                q_table_state[prev_state][prev_action] = update_q_function(\n",
        "                    alpha, gamma, q_table_state, prev_state, prev_action, reward, next_state[CONST_NULL]\n",
        "                    )\n",
        "                state = next_state\n",
        "\n",
        "        rewards.append(reward)\n",
        "        \n",
        "        if i % 10000 == CONST_NULL:\n",
        "            clear_output(wait=True)\n",
        "            plt.figure()\n",
        "            plt.plot(np.mean(rolling_window(np.array(rewards), 500), CONST_ONE))\n",
        "            plt.show()\n",
        "            plt.close()"
      ],
      "id": "k_7c6mVGPrOz",
      "execution_count": 5,
      "outputs": []
    },
    {
      "cell_type": "code",
      "metadata": {
        "colab": {
          "base_uri": "https://localhost:8080/",
          "height": 265
        },
        "id": "KikvVgWsPrO0",
        "outputId": "ff65925e-e8bf-414a-aff6-b2f77e22d0c0"
      },
      "source": [
        "# для игры 3 х 3\n",
        "shapes = 3\n",
        "env = TicTacToe(shapes, shapes, shapes)\n",
        "\n",
        "q_learning(env, episodes=100000, alpha=0.3, gamma=0.99, epsilon=0.06, shapes=shapes)"
      ],
      "id": "KikvVgWsPrO0",
      "execution_count": 6,
      "outputs": [
        {
          "output_type": "display_data",
          "data": {
            "image/png": "[encoded data removed]",
            "text/plain": [
              "<Figure size 432x288 with 1 Axes>"
            ]
          },
          "metadata": {
            "needs_background": "light"
          }
        }
      ]
    },
    {
      "cell_type": "markdown",
      "metadata": {
        "id": "wR8rwvigPrO1"
      },
      "source": [
        "### 2. Попробуйте обучить стратегии крестиков и ноликов для доски 4х4 и/или 5х5."
      ],
      "id": "wR8rwvigPrO1"
    },
    {
      "cell_type": "code",
      "metadata": {
        "id": "-cl09ogFPrO1",
        "colab": {
          "base_uri": "https://localhost:8080/",
          "height": 265
        },
        "outputId": "f802ace8-f3ac-4ec0-9aed-498d1a2ef79d"
      },
      "source": [
        "# 4 x 4\n",
        "shapes = 4\n",
        "env = TicTacToe(shapes, shapes, shapes)\n",
        "\n",
        "q_learning(env, episodes=100000, alpha=0.3, gamma=0.99, epsilon=0.06, shapes=shapes)"
      ],
      "id": "-cl09ogFPrO1",
      "execution_count": 7,
      "outputs": [
        {
          "output_type": "display_data",
          "data": {
            "image/png": "[encoded data removed]",
            "text/plain": [
              "<Figure size 432x288 with 1 Axes>"
            ]
          },
          "metadata": {
            "needs_background": "light"
          }
        }
      ]
    },
    {
      "cell_type": "code",
      "metadata": {
        "id": "RMPl9AdYPrO1",
        "colab": {
          "base_uri": "https://localhost:8080/",
          "height": 265
        },
        "outputId": "edb4459c-da72-4a5c-e0cc-b033bbd7f040"
      },
      "source": [
        "# 5 x 5\n",
        "shapes = 5\n",
        "env = TicTacToe(shapes, shapes, shapes)\n",
        "\n",
        "q_learning(env, episodes=100000, alpha=0.3, gamma=0.99, epsilon=0.06, shapes=shapes)"
      ],
      "id": "RMPl9AdYPrO1",
      "execution_count": 8,
      "outputs": [
        {
          "output_type": "display_data",
          "data": {
            "image/png": "[encoded data removed]",
            "text/plain": [
              "<Figure size 432x288 with 1 Axes>"
            ]
          },
          "metadata": {
            "needs_background": "light"
          }
        }
      ]
    },
    {
      "cell_type": "code",
      "metadata": {
        "id": "AAPTSLH_R201",
        "colab": {
          "base_uri": "https://localhost:8080/",
          "height": 278
        },
        "outputId": "f00b887f-e83e-4ba3-e8fa-e8fb0a629dbe"
      },
      "source": [
        "# поменяем не много гиперпараметры и добавим больше эпизодов\n",
        "# 4 x 4\n",
        "shapes = 4\n",
        "env = TicTacToe(shapes, shapes, shapes)\n",
        "\n",
        "q_learning(env, episodes=1000000, alpha=0.2, gamma=0.9, epsilon=0.04, shapes=shapes)"
      ],
      "id": "AAPTSLH_R201",
      "execution_count": 9,
      "outputs": [
        {
          "output_type": "display_data",
          "data": {
            "image/png": "[encoded data removed]",
            "text/plain": [
              "<Figure size 432x288 with 1 Axes>"
            ]
          },
          "metadata": {
            "needs_background": "light"
          }
        }
      ]
    },
    {
      "cell_type": "code",
      "metadata": {
        "id": "Djh2EOHIR25U",
        "colab": {
          "base_uri": "https://localhost:8080/",
          "height": 278
        },
        "outputId": "bf676a14-0364-4d33-a70b-3aa12fc76576"
      },
      "source": [
        "# поменяем не много гиперпараметры и добавим больше эпизодов\n",
        "# 5 x 5\n",
        "shapes = 5\n",
        "env = TicTacToe(shapes, shapes, shapes)\n",
        "\n",
        "q_learning(env, episodes=1000000, alpha=0.2, gamma=0.9, epsilon=0.04, shapes=shapes)"
      ],
      "id": "Djh2EOHIR25U",
      "execution_count": 10,
      "outputs": [
        {
          "output_type": "display_data",
          "data": {
            "image/png": "[encoded data removed]",
            "text/plain": [
              "<Figure size 432x288 with 1 Axes>"
            ]
          },
          "metadata": {
            "needs_background": "light"
          }
        }
      ]
    },
    {
      "cell_type": "markdown",
      "metadata": {
        "id": "WvULuJ8aPrO1"
      },
      "source": [
        "#### Вывод:\n",
        "В целом Q-обучение с эпсилон-жадной стратегией справляется довольно хорошо на маленькой доске (3 х 3) и на небольшом количестве эпизодов прохода, но для сеток размером (4 х 4 и 5 х 5) необходимо добавить больше эпизодов прохода и видно, что для 5 х 5 уже данный подход работает не очень хорошо, благодаря Q-обучению можно добиться хороших результатов на маленьких сетках игры (3 х 3 и 4 х 4)."
      ],
      "id": "WvULuJ8aPrO1"
    },
    {
      "cell_type": "markdown",
      "metadata": {
        "id": "ly37A9oaPrO2"
      },
      "source": [
        "## Часть вторая: добавим нейронных сетей"
      ],
      "id": "ly37A9oaPrO2"
    },
    {
      "cell_type": "markdown",
      "metadata": {
        "id": "_MJB3h8lPrO2"
      },
      "source": [
        "Реализуйте нейронную сеть для метода DQN на доске для крестиков-ноликов. Не буду ограничивать фантазию, но кажется, что свёртки 3х3 здесь должны неплохо работать (в том числе обобщаться на доски размера побольше):\n",
        "\n",
        "3. Реализуйте DQN с нейронной сетью, обучите стратегии крестиков и ноликов. Замечание: скорее всего, experience replay потребуется сразу же.\n",
        "4. Реализуйте Double DQN и/или Dueling DQN."
      ],
      "id": "_MJB3h8lPrO2"
    },
    {
      "cell_type": "markdown",
      "metadata": {
        "id": "Y6u53GeePrO2"
      },
      "source": [
        "### 3. Реализуйте DQN с нейронной сетью, обучите стратегии крестиков и ноликов. Замечание: скорее всего, experience replay потребуется сразу же."
      ],
      "id": "Y6u53GeePrO2"
    },
    {
      "cell_type": "code",
      "metadata": {
        "id": "IRJUCpKKPrO2"
      },
      "source": [
        "class TicTacToe(gym.Env):\n",
        "    def __init__(\n",
        "        self,\n",
        "        val_rows=CONST_CELL,\n",
        "        val_cols=CONST_CELL,\n",
        "        val_victory=CONST_CELL\n",
        "    ):\n",
        "        \"\"\"\n",
        "        Инициализация параметров игры и среды крестики-нолики.\n",
        "        \"\"\"\n",
        "        self.val_rows = val_rows\n",
        "        self.val_cols = val_cols\n",
        "        self.val_victory = val_victory\n",
        "        \n",
        "        self.plate = np.zeros(\n",
        "            (self.val_rows, self.val_cols),\n",
        "            dtype=int\n",
        "        )\n",
        "        self.game_over = False\n",
        "        self.plate_memory = None\n",
        "        self.motion_first = CONST_ONE\n",
        "        self.empty_field = None\n",
        "        self.val_random = CONST_NULL\n",
        "        self.plate_shape = val_rows\n",
        "        self.actions = self.fill_cell_val().tolist()\n",
        "        self.reset()\n",
        "\n",
        "    def fill_cell_val(\n",
        "        self\n",
        "    ):\n",
        "        \"\"\"\n",
        "        Заполнение значений ячеек.\n",
        "        \"\"\"\n",
        "        if self.empty_field is None:\n",
        "            res = np.where(self.plate == CONST_NULL)\n",
        "            list_empty_field = []\n",
        "            for i, j in zip(res[CONST_NULL], res[CONST_ONE]):\n",
        "                list_empty_field.append((i, j))\n",
        "            self.empty_field = np.array(list_empty_field)\n",
        "\n",
        "        return self.empty_field\n",
        "\n",
        "    def fill_memory_cell(\n",
        "        self\n",
        "    ):\n",
        "        \"\"\"\n",
        "        Проверка значений заполнений.\n",
        "        \"\"\"\n",
        "        if self.plate_memory is None:\n",
        "            list_memory = []\n",
        "            for iterr in self.plate.reshape(self.val_rows * self.val_cols):\n",
        "                list_memory.append('%s' % (iterr + CONST_ONE))\n",
        "            self.plate_memory = ''.join(list_memory)\n",
        "\n",
        "        return self.plate_memory\n",
        "\n",
        "    def transitions(\n",
        "        self\n",
        "    ):\n",
        "        \"\"\"\n",
        "        Логика ходов.\n",
        "        \"\"\"\n",
        "        transition_next = np.where(self.plate == self.motion_first)\n",
        "        transition_init = self.motion_first\n",
        "        for i, j in zip(transition_next[CONST_NULL], transition_next[CONST_ONE]):\n",
        "            victory = False\n",
        "            if i <= self.val_rows - self.val_victory:\n",
        "                if np.all(self.plate[i:i + self.val_victory, j] == transition_init):\n",
        "                    victory = True\n",
        "            if not victory:\n",
        "                if j <= self.val_cols - self.val_victory:\n",
        "                    if np.all(self.plate[i, j:j + self.val_victory] == transition_init):\n",
        "                        victory = True\n",
        "            if not victory:\n",
        "                if i <= self.val_rows - self.val_victory and j <= self.val_cols - self.val_victory:\n",
        "                    list_states_plates = []\n",
        "                    for k in range(self.val_victory):\n",
        "                        list_states_plates.append(self.plate[i + k, j + k] == transition_init)\n",
        "                    val_states_plates = np.array(list_states_plates)\n",
        "                    if np.all(val_states_plates):\n",
        "                        victory = True\n",
        "            if not victory:\n",
        "                if i <= self.val_rows - self.val_victory and j >= self.val_victory - CONST_ONE:\n",
        "                    list_states_victory = []\n",
        "                    for k in range(self.val_victory):\n",
        "                        list_states_victory.append(self.plate[i + k, j - k] == transition_init)\n",
        "                    val_states_victory = np.array(list_states_victory)\n",
        "                    if np.all(val_states_victory):\n",
        "                        victory = True\n",
        "            if victory:\n",
        "                self.game_over = True\n",
        "                return self.motion_first\n",
        "\n",
        "        if len(self.fill_cell_val()) == CONST_NULL:\n",
        "            self.game_over = True\n",
        "            return CONST_NULL\n",
        "        \n",
        "        self.game_over = False\n",
        "        \n",
        "        return None\n",
        "\n",
        "    def step(\n",
        "        self,\n",
        "        action\n",
        "    ):\n",
        "        \"\"\"\n",
        "        Получение основных данных среды и их обновление.\n",
        "        \"\"\"\n",
        "        if self.plate[action[CONST_NULL], action[CONST_ONE]] != CONST_NULL:\n",
        "            # получаем наблюдения\n",
        "            obs = (self.fill_memory_cell(), self.fill_cell_val(), self.motion_first)\n",
        "            return obs, -10, True\n",
        "        \n",
        "        self.plate[action[CONST_NULL], action[CONST_ONE]] = self.motion_first\n",
        "        self.empty_field = None\n",
        "        self.plate_memory = None\n",
        "        # вычисляем значение награды\n",
        "        reward = self.transitions()\n",
        "        self.motion_first = -self.motion_first\n",
        "        # получаем наблюдения\n",
        "        obs = (self.fill_memory_cell(), self.fill_cell_val(), self.motion_first)\n",
        "        val_rewards = CONST_NULL if reward is None else reward\n",
        "        val_dones = reward is not None\n",
        "        \n",
        "        return obs, val_rewards, val_dones\n",
        "\n",
        "    def reset(\n",
        "        self\n",
        "    ):\n",
        "        \"\"\"\n",
        "        Сброс значений.\n",
        "        \"\"\"\n",
        "        self.plate = np.zeros((self.val_rows, self.val_cols), dtype=int)\n",
        "        self.plate_memory = None\n",
        "        self.game_over = False\n",
        "        self.empty_field = None\n",
        "        self.motion_first = CONST_ONE\n",
        "        # получаем наблюдения\n",
        "        obs = (self.fill_memory_cell(), self.fill_cell_val(), self.motion_first)\n",
        "        \n",
        "        return obs\n",
        "\n",
        "    def random_step(\n",
        "        self,\n",
        "        action\n",
        "        ):\n",
        "        \"\"\"\n",
        "        Случайный шаг обновления среды.\n",
        "        \"\"\"\n",
        "        state, reward, done = self.step(self.actions[action])\n",
        "        self.val_random += CONST_ONE\n",
        "        \n",
        "        if not done:\n",
        "            action_random = self.fill_cell_val()\n",
        "            _, _, done = self.step(random.choice(action_random))\n",
        "            self.val_random += CONST_ONE\n",
        "            \n",
        "            if done:\n",
        "                # we lost\n",
        "                return self.plate, -CONST_ONE, True\n",
        "            else:\n",
        "                # play further\n",
        "                return self.plate, CONST_NULL, False\n",
        "            \n",
        "        else:\n",
        "            if reward == -10:\n",
        "                # wrong move\n",
        "                return self.plate, -10, True\n",
        "            else:\n",
        "                if self.val_random == self.plate_shape * self.plate_shape:\n",
        "                    # draw\n",
        "                    return self.plate, -0.5, True\n",
        "                else:\n",
        "                    # we won\n",
        "                    return self.plate, CONST_ONE, True\n",
        "        \n",
        "    def reset_rand(\n",
        "        self\n",
        "        ):\n",
        "        \"\"\"\n",
        "        Обновление случайного состояния.\n",
        "        \"\"\"\n",
        "        self.val_random = CONST_NULL\n",
        "        self.reset()\n",
        "\n",
        "        return self.plate, CONST_NULL, False"
      ],
      "id": "IRJUCpKKPrO2",
      "execution_count": 11,
      "outputs": []
    },
    {
      "cell_type": "code",
      "metadata": {
        "id": "nz2JTNyDRE0P"
      },
      "source": [
        "class ReplayMemory():\n",
        "    \"\"\"\n",
        "    Буфер памяти.\n",
        "    \"\"\"\n",
        "    def __init__(\n",
        "        self,\n",
        "        capacity\n",
        "        ):\n",
        "        self.capacity = capacity\n",
        "        self.memory = []\n",
        "        self.position = CONST_NULL\n",
        "\n",
        "    def init_memory(\n",
        "        self,\n",
        "        memor\n",
        "        ):\n",
        "        if len(self.memory) < self.capacity:\n",
        "            self.memory.append(None)\n",
        "        self.memory[self.position] = memor\n",
        "        self.position = (self.position + CONST_ONE) % self.capacity\n",
        "       \n",
        "    def sample(\n",
        "        self,\n",
        "        batch_size\n",
        "        ):\n",
        "        return random.sample(self.memory, batch_size)\n",
        "\n",
        "    def __len__(\n",
        "        self\n",
        "        ):\n",
        "        return len(self.memory)\n",
        "\n",
        "\n",
        "class DQNetwork(\n",
        "    nn.Module\n",
        "    ):\n",
        "    def __init__(\n",
        "        self,\n",
        "        plate_shape,\n",
        "        padding_shape\n",
        "        ):\n",
        "        self.plate_shape = plate_shape\n",
        "        nn.Module.__init__(self)\n",
        "        self.conv1 = torch.nn.Conv2d(CONST_ONE, 32, plate_shape, padding=(padding_shape, padding_shape))\n",
        "        self.conv2 = torch.nn.Conv2d(32, CONST_CELL, plate_shape, padding=(padding_shape, padding_shape))\n",
        "        self.linear = nn.Linear(plate_shape * plate_shape * CONST_CELL, plate_shape * plate_shape)\n",
        "        self.relu = nn.ReLU()\n",
        "\n",
        "    def forward(\n",
        "        self,\n",
        "        x\n",
        "        ):\n",
        "        x = self.relu(self.conv1(x))\n",
        "        x = self.relu(self.conv2(x))\n",
        "        x = self.linear(x.view(-CONST_ONE, self.plate_shape * self.plate_shape * CONST_CELL))\n",
        "\n",
        "        return x"
      ],
      "id": "nz2JTNyDRE0P",
      "execution_count": 12,
      "outputs": []
    },
    {
      "cell_type": "code",
      "metadata": {
        "id": "dq4GNrhvjo4H"
      },
      "source": [
        "class TTDQN():\n",
        "    def __init__(\n",
        "        self,\n",
        "        plate_size,\n",
        "        padding_size,\n",
        "        ):\n",
        "        self.plate_size = plate_size\n",
        "        # инициализация игры в крестики-нолики\n",
        "        self.env = TicTacToe(self.plate_size, self.plate_size, self.plate_size)\n",
        "        # инициализация DQN\n",
        "        self.model = DQNetwork(plate_size, padding_size)\n",
        "        # буфер памяти\n",
        "        self.memory = ReplayMemory(10000)\n",
        "        # оптимизатор\n",
        "        self.optimizer = optim.Adam(self.model.parameters(), 0.001)\n",
        "        self.rewards = []\n",
        "        \n",
        "    def run_train_game(\n",
        "        self\n",
        "        ):\n",
        "        state, reward, done = self.env.reset_rand()\n",
        "        while True:\n",
        "            to_state = torch.tensor(\n",
        "                state, dtype=torch.float32\n",
        "                ).reshape(\n",
        "                    CONST_ONE, CONST_ONE, self.plate_size, self.plate_size\n",
        "                    )\n",
        "            with torch.no_grad():\n",
        "                action = self.model(to_state).data.max(CONST_ONE)[CONST_ONE].view(CONST_ONE, CONST_ONE)\n",
        "                    \n",
        "            next_state, reward, done = self.env.random_step(action.numpy()[CONST_NULL][CONST_NULL])\n",
        "            next_state_tensor = torch.tensor(\n",
        "                next_state, dtype=torch.float32\n",
        "                ).reshape(\n",
        "                    CONST_ONE, CONST_ONE, self.plate_size, self.plate_size\n",
        "                    )\n",
        "\n",
        "            transition = (\n",
        "                to_state, action, next_state_tensor,\n",
        "                torch.tensor([reward], dtype=torch.float32)\n",
        "                )\n",
        "            \n",
        "            # записываем в память\n",
        "            self.memory.init_memory(transition)\n",
        "            if len(self.memory) < CONST_BATCH:\n",
        "                return\n",
        "\n",
        "            # батч из памяти\n",
        "            transitions = self.memory.sample(CONST_BATCH)\n",
        "            batch_state, batch_action, batch_next_state, batch_reward = zip(*transitions)\n",
        "            batch_state = Variable(torch.cat(batch_state))\n",
        "            batch_action = Variable(torch.cat(batch_action))\n",
        "            batch_reward = Variable(torch.cat(batch_reward))\n",
        "            batch_next_state = Variable(torch.cat(batch_next_state))\n",
        "\n",
        "            # считаем значения функции Q\n",
        "            Q = self.model(batch_state).gather(CONST_ONE, batch_action).reshape([CONST_BATCH])\n",
        "            # считаем q фунцияю от всех действий\n",
        "            Qmax = self.model(batch_next_state).detach().max(CONST_ONE)[CONST_NULL]\n",
        "            Qnext = batch_reward + (0.8 * Qmax)\n",
        "            # рассчитываем потери\n",
        "            loss = F.smooth_l1_loss(Q, Qnext)\n",
        "            # очищаем веса градиента\n",
        "            self.optimizer.zero_grad()\n",
        "            # делаем шаг оптимизации и отправляем лосс для подсчета\n",
        "            loss.backward()\n",
        "            self.optimizer.step()\n",
        "            state = next_state\n",
        "            if done:\n",
        "                self.rewards.append(reward)\n",
        "                break"
      ],
      "id": "dq4GNrhvjo4H",
      "execution_count": 13,
      "outputs": []
    },
    {
      "cell_type": "code",
      "metadata": {
        "colab": {
          "base_uri": "https://localhost:8080/",
          "height": 265
        },
        "id": "fwUNZpoTivF4",
        "outputId": "fac8f473-fd74-4b70-fdb7-8f7543a5c023"
      },
      "source": [
        "# инициализируем игру в крестики нолики 3 х 3 и с padding = 1\n",
        "tictac_dqn = TTDQN(CONST_CELL, CONST_ONE)\n",
        "# проходим 10000 эпох\n",
        "for _ in range(10000):\n",
        "    # \n",
        "    tictac_dqn.run_train_game()\n",
        "# визуализируем значение награды\n",
        "plt.figure()\n",
        "plt.plot(np.mean(rolling_window(np.array(tictac_dqn.rewards), 500), CONST_ONE))\n",
        "plt.show()\n",
        "plt.close()"
      ],
      "id": "fwUNZpoTivF4",
      "execution_count": 14,
      "outputs": [
        {
          "output_type": "display_data",
          "data": {
            "image/png": "[encoded data removed]",
            "text/plain": [
              "<Figure size 432x288 with 1 Axes>"
            ]
          },
          "metadata": {
            "needs_background": "light"
          }
        }
      ]
    },
    {
      "cell_type": "markdown",
      "metadata": {
        "id": "L2BrupJYPrO2"
      },
      "source": [
        "### 4. Реализуйте Double DQN и/или Dueling DQN."
      ],
      "id": "L2BrupJYPrO2"
    },
    {
      "cell_type": "code",
      "metadata": {
        "id": "dDBzml5KPrO3"
      },
      "source": [
        "class DuelingDQNetwork(nn.Module):\n",
        "    def __init__(\n",
        "        self,\n",
        "        plate_shape\n",
        "        ):\n",
        "        super(DuelingDQNetwork, self).__init__()\n",
        "        \n",
        "        self.plate_shape = plate_shape\n",
        "        \n",
        "        self.conv = nn.Sequential(\n",
        "            nn.Conv2d(CONST_ONE, 5, kernel_size=CONST_CELL, stride=CONST_ONE, padding=CONST_ONE),\n",
        "            nn.ReLU()\n",
        "            )\n",
        "        \n",
        "        self.fc_layer = self.conv(torch.zeros(CONST_ONE, CONST_ONE, self.plate_shape, self.plate_shape)).view(CONST_ONE, -CONST_ONE).size(CONST_ONE)\n",
        "        \n",
        "        self.layer_lin1 = nn.Sequential(\n",
        "            nn.Linear(self.fc_layer, CONST_LAYER),\n",
        "            nn.ReLU(),\n",
        "            nn.Linear(CONST_LAYER, CONST_ONE)\n",
        "        )\n",
        "\n",
        "        self.layer_lin2 = nn.Sequential(\n",
        "            nn.Linear(self.fc_layer, CONST_LAYER),\n",
        "            nn.ReLU(),\n",
        "            nn.Linear(CONST_LAYER, self.plate_shape * self.plate_shape)\n",
        "        )\n",
        "\n",
        "    def forward(\n",
        "        self,\n",
        "        state\n",
        "        ):\n",
        "        x = self.conv(state)\n",
        "        x = x.view(x.size(0), -CONST_ONE)\n",
        "        values = self.layer_lin1(x)\n",
        "        return self.layer_lin1(x) + (self.layer_lin2(x) - self.layer_lin2(x).mean())"
      ],
      "id": "dDBzml5KPrO3",
      "execution_count": 15,
      "outputs": []
    },
    {
      "cell_type": "code",
      "metadata": {
        "id": "uUYgBGGvPZrN"
      },
      "source": [
        "class TTDDQN():\n",
        "    def __init__(\n",
        "        self,\n",
        "        plate_size\n",
        "        ):\n",
        "        self.plate_size = plate_size\n",
        "        # инициализация игры в крестики-нолики\n",
        "        self.env = TicTacToe(self.plate_size, self.plate_size, self.plate_size)\n",
        "        # инициализация DQN\n",
        "        self.model = DuelingDQNetwork(plate_size)\n",
        "        # буфер памяти\n",
        "        self.memory = ReplayMemory(10000)\n",
        "        # оптимизатор\n",
        "        self.optimizer = optim.Adam(self.model.parameters(), 0.001)\n",
        "        self.rewards = []\n",
        "        \n",
        "    def run_train_game(\n",
        "        self\n",
        "        ):\n",
        "        state, reward, done = self.env.reset_rand()\n",
        "        while True:\n",
        "            to_state = torch.tensor(\n",
        "                state, dtype=torch.float32\n",
        "                ).reshape(\n",
        "                    CONST_ONE, CONST_ONE, self.plate_size, self.plate_size\n",
        "                    )\n",
        "            with torch.no_grad():\n",
        "                action = self.model(to_state).data.max(CONST_ONE)[CONST_ONE].view(CONST_ONE, CONST_ONE)\n",
        "                    \n",
        "            next_state, reward, done = self.env.random_step(action.numpy()[CONST_NULL][CONST_NULL])\n",
        "            next_state_tensor = torch.tensor(\n",
        "                next_state, dtype=torch.float32\n",
        "                ).reshape(\n",
        "                    CONST_ONE, CONST_ONE, self.plate_size, self.plate_size\n",
        "                    )\n",
        "\n",
        "            transition = (\n",
        "                to_state, action, next_state_tensor,\n",
        "                torch.tensor([reward], dtype=torch.float32)\n",
        "                )\n",
        "            \n",
        "            # записываем в память\n",
        "            self.memory.init_memory(transition)\n",
        "            if len(self.memory) < CONST_BATCH:\n",
        "                return\n",
        "\n",
        "            # батч из памяти\n",
        "            transitions = self.memory.sample(CONST_BATCH)\n",
        "            batch_state, batch_action, batch_next_state, batch_reward = zip(*transitions)\n",
        "            batch_state = Variable(torch.cat(batch_state))\n",
        "            batch_action = Variable(torch.cat(batch_action))\n",
        "            batch_reward = Variable(torch.cat(batch_reward))\n",
        "            batch_next_state = Variable(torch.cat(batch_next_state))\n",
        "\n",
        "            # считаем значения функции Q\n",
        "            Q = self.model(batch_state).gather(CONST_ONE, batch_action).reshape([CONST_BATCH])\n",
        "            # считаем q фунцияю от всех действий\n",
        "            Qmax = self.model(batch_next_state).detach().max(CONST_ONE)[CONST_NULL]\n",
        "            Qnext = batch_reward + (0.8 * Qmax)\n",
        "            # рассчитываем потери\n",
        "            loss = F.smooth_l1_loss(Q, Qnext)\n",
        "            # очищаем веса градиента\n",
        "            self.optimizer.zero_grad()\n",
        "            # делаем шаг оптимизации и отправляем лосс для подсчета\n",
        "            loss.backward()\n",
        "            self.optimizer.step()\n",
        "            state = next_state\n",
        "            if done:\n",
        "                self.rewards.append(reward)\n",
        "                break"
      ],
      "id": "uUYgBGGvPZrN",
      "execution_count": 16,
      "outputs": []
    },
    {
      "cell_type": "code",
      "metadata": {
        "colab": {
          "base_uri": "https://localhost:8080/",
          "height": 265
        },
        "id": "j8rb7q54PsMb",
        "outputId": "bad0f216-8fbb-45c1-c4c8-ec22ff04a6ac"
      },
      "source": [
        "# инициализируем игру в крестики нолики 3 х 3 и с padding = 1 с подходом Dueling DQN\n",
        "tictac_dqn = TTDDQN(CONST_CELL)\n",
        "# проходим 10000 эпох\n",
        "for _ in range(10000):\n",
        "    tictac_dqn.run_train_game()\n",
        "# визуализируем значение награды\n",
        "plt.figure()\n",
        "plt.plot(np.mean(rolling_window(np.array(tictac_dqn.rewards), 500), CONST_ONE))\n",
        "plt.show()\n",
        "plt.close()"
      ],
      "id": "j8rb7q54PsMb",
      "execution_count": 20,
      "outputs": [
        {
          "output_type": "display_data",
          "data": {
            "image/png": "[encoded data removed]",
            "text/plain": [
              "<Figure size 432x288 with 1 Axes>"
            ]
          },
          "metadata": {
            "needs_background": "light"
          }
        }
      ]
    },
    {
      "cell_type": "markdown",
      "metadata": {
        "id": "VNXCnewCPrO3"
      },
      "source": [
        "#### Вывод: В целом подход на основе DQN и Dueling  DQN показывает хороший результат и достигают хороший результат и достигает оптимальное значение награды за маленькое количество эпох (10000), в то время как для обычного подхода на основе Q функциии требовалось около 100000 эпох. И судя по значениям наград, подход на основе Dueling DQN стабильнее обычного подхода DQN."
      ],
      "id": "VNXCnewCPrO3"
    },
    {
      "cell_type": "markdown",
      "metadata": {
        "id": "SiLh9Eu4PrO3"
      },
      "source": [
        "## Часть третья: расширим и углубим поиск"
      ],
      "id": "SiLh9Eu4PrO3"
    },
    {
      "cell_type": "markdown",
      "metadata": {
        "id": "Q3X6hOpwPrO3"
      },
      "source": [
        "Крестики-нолики -- это, конечно, далеко не го, и обычный альфа-бета поиск с отсечением здесь наверняка может работать идеально вплоть до довольно больших досок. Однако мы всё-таки для этого учебного задания будем реализовывать более практически релевантный метод MCTS -- заодно фактически получится и упражнение на многоруких бандитов:\n",
        "\n",
        "5. Реализуйте rollouts со случайной стратегией и (опционально) rollouts с неслучайной, но простой стратегией (например, основанной на дополнении нескольких паттернов или на Q-функции, которая у вас получилась в первом пункте).\n",
        "6. Реализуйте MCTS-поиск с этими rollouts для крестиков-ноликов на досках разного размера, сравните полученные стратегии между собой и со стратегиями, обученными в первых двух частях."
      ],
      "id": "Q3X6hOpwPrO3"
    },
    {
      "cell_type": "markdown",
      "metadata": {
        "id": "THal528NPrO3"
      },
      "source": [
        "### 5. Реализуйте rollouts со случайной стратегией и (опционально) rollouts с неслучайной, но простой стратегией (например, основанной на дополнении нескольких паттернов или на Q-функции, которая у вас получилась в первом пункте)."
      ],
      "id": "THal528NPrO3"
    },
    {
      "cell_type": "code",
      "metadata": {
        "id": "s_8JaCWXPrO3"
      },
      "source": [
        "def rollouts(\n",
        "    env\n",
        "    ):\n",
        "    \"\"\"\n",
        "    Случайная стратегия.\n",
        "    \"\"\"\n",
        "    env = deepcopy(env)\n",
        "    done = env.transitions()\n",
        "    while not done:\n",
        "        action = random.choice(env.empty_field)\n",
        "        _, reward, done = env.step(action)\n",
        "\n",
        "    return reward"
      ],
      "id": "s_8JaCWXPrO3",
      "execution_count": 21,
      "outputs": []
    },
    {
      "cell_type": "code",
      "metadata": {
        "colab": {
          "base_uri": "https://localhost:8080/"
        },
        "id": "ysSqOu5yTLTE",
        "outputId": "efd6ff6f-e6db-4708-bf2a-27f5182a978e"
      },
      "source": [
        "rewards = []\n",
        "env = TicTacToe()\n",
        "for _ in range(10000):\n",
        "    rewards.append(rollouts(env))\n",
        "print(\"Среднее значение для награды с подходом rollouts:\", np.mean(rewards))"
      ],
      "id": "ysSqOu5yTLTE",
      "execution_count": 22,
      "outputs": [
        {
          "output_type": "stream",
          "name": "stdout",
          "text": [
            "Среднее значение для награды с подходом rollouts: 0.3048\n"
          ]
        }
      ]
    },
    {
      "cell_type": "markdown",
      "metadata": {
        "id": "9t8Gd-v9PrO4"
      },
      "source": [
        "### 6. Реализуйте MCTS-поиск с этими rollouts для крестиков-ноликов на досках разного размера, сравните полученные стратегии между собой и со стратегиями, обученными в первых двух частях."
      ],
      "id": "9t8Gd-v9PrO4"
    },
    {
      "cell_type": "code",
      "metadata": {
        "id": "z-a2SXLTPrO4"
      },
      "source": [
        "class MCTS:\n",
        "    \"\"\"\n",
        "    MCTS-поиск.\n",
        "    \"\"\"\n",
        "    def __init__(\n",
        "        self,\n",
        "        env\n",
        "        ):\n",
        "        self.env = deepcopy(env)\n",
        "        self.parent = None\n",
        "        self.term = False\n",
        "        self.visited = False\n",
        "        self.child = []\n",
        "        self.reward, self.left, self.right = CONST_NULL, CONST_NULL, CONST_NULL\n",
        "        \n",
        "    def search(\n",
        "        self\n",
        "        ):\n",
        "        if self.term:\n",
        "            self.left += CONST_ONE\n",
        "            return -self.reward\n",
        "        \n",
        "        if not self.visited:\n",
        "            self.visited = True\n",
        "            self.reward = rollouts(self.env)\n",
        "            self.right = (self.right * self.left + self.reward) / (self.left + CONST_ONE)\n",
        "            self.left += CONST_ONE\n",
        "            \n",
        "            return self.reward\n",
        "        \n",
        "        if len(self.child) == CONST_NULL:\n",
        "            for action in self.env.empty_field:\n",
        "                new_env = deepcopy(env)\n",
        "                _, rewards, done = new_env.step(action)\n",
        "                new_node = MCTS(new_env)\n",
        "                new_node.parent = self \n",
        "                new_node.action = action\n",
        "                self.child.append(new_node)\n",
        "                if done:\n",
        "                    new_node.term = True\n",
        "                    new_node.reward = rewards\n",
        "            val = self.child[CONST_NULL].search()\n",
        "            self.right = (self.right * self.left + val) / (self.left + CONST_ONE)\n",
        "            self.left += CONST_ONE\n",
        "\n",
        "            return val"
      ],
      "id": "z-a2SXLTPrO4",
      "execution_count": 23,
      "outputs": []
    },
    {
      "cell_type": "code",
      "metadata": {
        "id": "EOtR4KwBWxtO"
      },
      "source": [
        "def move_mcts(\n",
        "    env,\n",
        "    actions\n",
        "    ):\n",
        "    \"\"\"\n",
        "    Выбор действия с подходом MCTS.\n",
        "    \"\"\"\n",
        "    mcts = MCTS(env)\n",
        "    for _ in range(1000):\n",
        "        mcts.search()\n",
        "    val = max(mcts.child, key=lambda x: x.left).action\n",
        "    for index, i in enumerate(actions):\n",
        "        if sum(i == val) == 2:\n",
        "            return index\n",
        "    return -CONST_ONE\n",
        "\n",
        "\n",
        "def run_game_mcts(env):\n",
        "    '''\n",
        "    Играем тестовую партию между стратегиями или со случайными ходами, рисуем ход игры.\n",
        "    '''\n",
        "    done = False\n",
        "    env.reset()\n",
        "    while not done:\n",
        "        s, actions = env.fill_memory_cell(), env.fill_cell_val()\n",
        "        if env.motion_first == CONST_ONE:\n",
        "            plot_board(env)\n",
        "            a = move_mcts(env, actions)\n",
        "        else:\n",
        "            plot_board(env)\n",
        "            a = move_mcts(env, actions)\n",
        "        observation, reward, done = env.step(actions[a])\n",
        "        if reward == CONST_ONE:\n",
        "            print(\"Победа крестиков!\")\n",
        "            plot_board(env)\n",
        "        if reward == -CONST_ONE:\n",
        "            print(\"Победа ноликов!\")\n",
        "            plot_board(env)\n",
        "\n",
        "    return reward"
      ],
      "id": "EOtR4KwBWxtO",
      "execution_count": 24,
      "outputs": []
    },
    {
      "cell_type": "code",
      "metadata": {
        "colab": {
          "base_uri": "https://localhost:8080/",
          "height": 487
        },
        "id": "pKFHLBIoZGSB",
        "outputId": "0a04499a-d9e0-4f2a-df38-c9b7b5ea72c2"
      },
      "source": [
        "# запустим подход на основе mcts\n",
        "rewards = []\n",
        "for _ in range(1000):\n",
        "    env = TicTacToe()\n",
        "    rewards.append(run_game_mcts(env))\n",
        "print(\"Среднее значение для награды с подходом MCTS:\", np.mean(rewards))"
      ],
      "id": "pKFHLBIoZGSB",
      "execution_count": 25,
      "outputs": [
        {
          "output_type": "display_data",
          "data": {
            "image/png": "[encoded data removed]",
            "text/plain": [
              "<Figure size 576x576 with 2 Axes>"
            ]
          },
          "metadata": {
            "needs_background": "light"
          }
        },
        {
          "output_type": "stream",
          "name": "stdout",
          "text": [
            "Среднее значение для награды с подходом MCTS: 1.0\n"
          ]
        }
      ]
    },
    {
      "cell_type": "markdown",
      "metadata": {
        "id": "qwgeTxbYPrO4"
      },
      "source": [
        "#### Вывод: подход на основе rollouts дает довольно плохой результат, все таки случайная стратегия в данной игре не применима. А вот подход MCTS дает лучше результат."
      ],
      "id": "qwgeTxbYPrO4"
    },
    {
      "cell_type": "markdown",
      "metadata": {
        "id": "q9zIkBM3PrO4"
      },
      "source": [
        "## Часть четвёртая, опциональная: AlphaZero"
      ],
      "id": "q9zIkBM3PrO4"
    },
    {
      "cell_type": "markdown",
      "metadata": {
        "id": "mgVvw6CTPrO4"
      },
      "source": [
        "В опциональной части домашнего задания давайте попробуем всё-таки собрать всё вместе и завести настоящий AlphaZero. Если получится и будет обобщаться на большие доски, будет очень круто и будет стоить много дополнительных баллов:\\\n",
        "\n",
        "7. Реализуйте AlphaZero для крестиков-ноликов, используя MCTS из третьей части и DQN-сеть из второй части. Обучите стратегии для игры на больших досках (10х10 и выше, до пяти в ряд; опять же, может потребовать много времени, так что достаточно показать, что обучение началось и идёт)."
      ],
      "id": "mgVvw6CTPrO4"
    },
    {
      "cell_type": "markdown",
      "metadata": {
        "id": "YbYPRyVmPrO4"
      },
      "source": [
        "### 7. Реализуйте AlphaZero для крестиков-ноликов, используя MCTS из третьей части и DQN-сеть из второй части. Обучите стратегии для игры на больших досках (10х10 и выше, до пяти в ряд; опять же, может потребовать много времени, так что достаточно показать, что обучение началось и идёт)."
      ],
      "id": "YbYPRyVmPrO4"
    }
  ]
}